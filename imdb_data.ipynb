{
  "nbformat": 4,
  "nbformat_minor": 0,
  "metadata": {
    "colab": {
      "provenance": []
    },
    "kernelspec": {
      "name": "python3",
      "display_name": "Python 3"
    },
    "language_info": {
      "name": "python"
    }
  },
  "cells": [
    {
      "cell_type": "code",
      "execution_count": 2,
      "metadata": {
        "id": "UzWxek4N3eAu"
      },
      "outputs": [],
      "source": [
        "import requests\n",
        "from bs4 import BeautifulSoup\n",
        "\n",
        "def get_imdb_page(url):\n",
        "    \n",
        "    headers = {'Accept-Language': 'en-US,en;q=0.5'}\n",
        "    response=requests.get(url, headers=headers)\n",
        "    \n",
        "    if response.status_code != 200:\n",
        "        raise Exception(f'Failed to load page {imdb_url}')\n",
        "    \n",
        "    doc = BeautifulSoup(response.text, 'html.parser')\n",
        "    return doc"
      ]
    },
    {
      "cell_type": "code",
      "source": [
        "imdb_url = 'https://www.imdb.com/search/title/?groups=top_250'\n",
        "doc = get_imdb_page(imdb_url)"
      ],
      "metadata": {
        "id": "kL25e7bY3m1C"
      },
      "execution_count": 3,
      "outputs": []
    },
    {
      "cell_type": "code",
      "source": [
        "def get_movie_titles(doc):\n",
        "    \n",
        "    title_selection_class=\"lister-item-header\"\n",
        "    movie_title_tags=doc.find_all('h3',{'class':title_selection_class})\n",
        "    movie_titles=[]\n",
        "\n",
        "    for tag in movie_title_tags:\n",
        "        title = tag.find('a').text\n",
        "        movie_titles.append(title)\n",
        "        \n",
        "        \n",
        "    return movie_titles"
      ],
      "metadata": {
        "id": "gEe2AD6d5UTR"
      },
      "execution_count": 4,
      "outputs": []
    },
    {
      "cell_type": "code",
      "source": [
        "title = get_movie_titles(doc)"
      ],
      "metadata": {
        "id": "QSlXkCMY5q2m"
      },
      "execution_count": 5,
      "outputs": []
    },
    {
      "cell_type": "code",
      "source": [
        "title[:5]"
      ],
      "metadata": {
        "colab": {
          "base_uri": "https://localhost:8080/"
        },
        "id": "GngAJwj25w88",
        "outputId": "53286dd7-2eb5-471b-b39a-d943b6366c51"
      },
      "execution_count": 6,
      "outputs": [
        {
          "output_type": "execute_result",
          "data": {
            "text/plain": [
              "['Top Gun: Maverick',\n",
              " 'The Godfather',\n",
              " 'Interstellar',\n",
              " 'The Shawshank Redemption',\n",
              " \"Schindler's List\"]"
            ]
          },
          "metadata": {},
          "execution_count": 6
        }
      ]
    },
    {
      "cell_type": "code",
      "source": [
        "def get_movie_rating(doc):\n",
        "    rating_selector=\"inline-block ratings-imdb-rating\"            \n",
        "    movie_rating_tags=doc.find_all('div',{'class':rating_selector})\n",
        "    movie_rating=[]\n",
        "    for tag in movie_rating_tags:\n",
        "        movie_rating.append(tag.get_text().strip())\n",
        "    return movie_rating"
      ],
      "metadata": {
        "id": "qQmDUbIv5z_p"
      },
      "execution_count": 7,
      "outputs": []
    },
    {
      "cell_type": "code",
      "source": [
        "rating = get_movie_rating(doc)"
      ],
      "metadata": {
        "id": "hDheG1CQ9j__"
      },
      "execution_count": 8,
      "outputs": []
    },
    {
      "cell_type": "code",
      "source": [
        "rating[:10]"
      ],
      "metadata": {
        "colab": {
          "base_uri": "https://localhost:8080/"
        },
        "id": "J51QI2fn9naY",
        "outputId": "625228ef-5392-45d7-e464-00affa66fef2"
      },
      "execution_count": 9,
      "outputs": [
        {
          "output_type": "execute_result",
          "data": {
            "text/plain": [
              "['8.3', '9.2', '8.6', '9.3', '9.0', '8.2', '8.9', '9.0', '8.8', '8.2']"
            ]
          },
          "metadata": {},
          "execution_count": 9
        }
      ]
    },
    {
      "cell_type": "code",
      "source": [
        "def get_movie_genre(doc):\n",
        "    genre_selector=\"genre\"            \n",
        "    movie_genre_tags=doc.find_all('span',{'class':genre_selector})\n",
        "    movie_genre=[]\n",
        "    for tag in movie_genre_tags:\n",
        "        movie_genre.append(tag.get_text().strip())\n",
        "    return movie_genre"
      ],
      "metadata": {
        "id": "J-O01J059qHD"
      },
      "execution_count": 10,
      "outputs": []
    },
    {
      "cell_type": "code",
      "source": [
        "genre = get_movie_genre(doc)"
      ],
      "metadata": {
        "id": "J8SH7Bsd910m"
      },
      "execution_count": 11,
      "outputs": []
    },
    {
      "cell_type": "code",
      "source": [
        "genre[:10]"
      ],
      "metadata": {
        "colab": {
          "base_uri": "https://localhost:8080/"
        },
        "id": "EoSH-Z7u94vR",
        "outputId": "4ed811d4-256e-412b-9de6-56c5832450db"
      },
      "execution_count": 12,
      "outputs": [
        {
          "output_type": "execute_result",
          "data": {
            "text/plain": [
              "['Action, Drama',\n",
              " 'Crime, Drama',\n",
              " 'Adventure, Drama, Sci-Fi',\n",
              " 'Drama',\n",
              " 'Biography, Drama, History',\n",
              " 'Biography, Comedy, Crime',\n",
              " 'Crime, Drama',\n",
              " 'Action, Crime, Drama',\n",
              " 'Action, Adventure, Sci-Fi',\n",
              " 'Action, Adventure, Fantasy']"
            ]
          },
          "metadata": {},
          "execution_count": 12
        }
      ]
    },
    {
      "cell_type": "code",
      "source": [
        "def get_movie_year(doc):\n",
        "    year_selector = \"lister-item-year text-muted unbold\"           \n",
        "    movie_year_tags=doc.find_all('span',{'class':year_selector})\n",
        "    released_year=[]\n",
        "    for tag in movie_year_tags:\n",
        "        released_year.append(tag.get_text().strip()[1:5])\n",
        "    return released_year"
      ],
      "metadata": {
        "id": "W4xVWnP297j-"
      },
      "execution_count": 13,
      "outputs": []
    },
    {
      "cell_type": "code",
      "source": [
        "year = get_movie_year(doc)"
      ],
      "metadata": {
        "id": "MR7Le1xr-GGg"
      },
      "execution_count": 14,
      "outputs": []
    },
    {
      "cell_type": "code",
      "source": [
        "year[:5]"
      ],
      "metadata": {
        "colab": {
          "base_uri": "https://localhost:8080/"
        },
        "id": "-XeqrCQs-JN1",
        "outputId": "64919c3e-013a-40dc-84ab-dfb2b9d81aec"
      },
      "execution_count": 15,
      "outputs": [
        {
          "output_type": "execute_result",
          "data": {
            "text/plain": [
              "['2022', '1972', '2014', '1994', '1993']"
            ]
          },
          "metadata": {},
          "execution_count": 15
        }
      ]
    },
    {
      "cell_type": "code",
      "source": [
        "def get_director(doc):\n",
        "    \n",
        "    \n",
        "    director_tags=doc.find_all('p', class_='')\n",
        "    directors=[]\n",
        "\n",
        "    for tag in director_tags:\n",
        "        if tag.find_next().name=='a':\n",
        "\n",
        "          directors.append(tag.find_next().text)\n",
        "        \n",
        "        \n",
        "    return directors"
      ],
      "metadata": {
        "id": "2HWg03BX-M9H"
      },
      "execution_count": 16,
      "outputs": []
    },
    {
      "cell_type": "code",
      "source": [
        "director = get_director (doc)"
      ],
      "metadata": {
        "id": "5aV3JmwGp49c"
      },
      "execution_count": 17,
      "outputs": []
    },
    {
      "cell_type": "code",
      "source": [
        "director[:10]"
      ],
      "metadata": {
        "colab": {
          "base_uri": "https://localhost:8080/"
        },
        "id": "toENjlvWqAsh",
        "outputId": "cd61f93c-6d02-4fa1-8db7-5b40a32a13f8"
      },
      "execution_count": 18,
      "outputs": [
        {
          "output_type": "execute_result",
          "data": {
            "text/plain": [
              "['Joseph Kosinski',\n",
              " 'Francis Ford Coppola',\n",
              " 'Christopher Nolan',\n",
              " 'Frank Darabont',\n",
              " 'Steven Spielberg',\n",
              " 'Martin Scorsese',\n",
              " 'Quentin Tarantino',\n",
              " 'Christopher Nolan',\n",
              " 'Christopher Nolan',\n",
              " 'Jon Watts']"
            ]
          },
          "metadata": {},
          "execution_count": 18
        }
      ]
    },
    {
      "cell_type": "code",
      "source": [
        "import pandas as pd"
      ],
      "metadata": {
        "id": "gzCMmvjXqTCj"
      },
      "execution_count": 19,
      "outputs": []
    },
    {
      "cell_type": "code",
      "source": [
        "def all_pages(num=5):\n",
        "    movies_dict={\n",
        "        'titles':[],\n",
        "        'genre':[],\n",
        "        \n",
        "        'rating':[],\n",
        "        'year':[],\n",
        "        'director':[]\n",
        "    }\n",
        "  \n",
        "    for i in range(1,num*25,25):\n",
        "       \n",
        "        url = 'https://www.imdb.com/search/title/?groups=top_250&start'+str(i)+'&ref_=adv_next'\n",
        "        doc = get_imdb_page(url)\n",
        "   \n",
        "        \n",
        "        movies_dict['titles'] += get_movie_titles(doc)\n",
        "        \n",
        "        \n",
        "        movies_dict['rating'] += get_movie_rating(doc)\n",
        "        \n",
        "        movies_dict['year'] += get_movie_year(doc)\n",
        "        movies_dict['genre'] += get_movie_genre(doc)  \n",
        "        movies_dict['director'] += get_director(doc)  \n",
        "        \n",
        "    return pd.DataFrame(movies_dict)"
      ],
      "metadata": {
        "id": "W8VS5vwkGGYu"
      },
      "execution_count": 30,
      "outputs": []
    },
    {
      "cell_type": "code",
      "source": [
        "movies = all_pages()"
      ],
      "metadata": {
        "id": "Gb_Aidz8ICcO"
      },
      "execution_count": 32,
      "outputs": []
    },
    {
      "cell_type": "code",
      "source": [
        "movies.to_csv('movies.csv',index=None)"
      ],
      "metadata": {
        "id": "ReuvH9I7II5o"
      },
      "execution_count": 33,
      "outputs": []
    },
    {
      "cell_type": "code",
      "source": [
        "dataframe = pd.read_csv('movies.csv')"
      ],
      "metadata": {
        "id": "Yu0S4RvNITvo"
      },
      "execution_count": 34,
      "outputs": []
    },
    {
      "cell_type": "code",
      "source": [
        "dataframe"
      ],
      "metadata": {
        "colab": {
          "base_uri": "https://localhost:8080/",
          "height": 423
        },
        "id": "FDdD3M0kIWh9",
        "outputId": "f5ffe34b-a0e5-40ef-a318-73199e23f0d1"
      },
      "execution_count": 35,
      "outputs": [
        {
          "output_type": "execute_result",
          "data": {
            "text/plain": [
              "                                            titles                      genre  \\\n",
              "0                                Top Gun: Maverick              Action, Drama   \n",
              "1                                    The Godfather               Crime, Drama   \n",
              "2                                     Interstellar   Adventure, Drama, Sci-Fi   \n",
              "3                         The Shawshank Redemption                      Drama   \n",
              "4                                 Schindler's List  Biography, Drama, History   \n",
              "..                                             ...                        ...   \n",
              "245                          The Dark Knight Rises              Action, Drama   \n",
              "246                                  Hacksaw Ridge  Biography, Drama, History   \n",
              "247  The Lord of the Rings: The Return of the King   Action, Adventure, Drama   \n",
              "248                                    Taxi Driver               Crime, Drama   \n",
              "249                                          Alien             Horror, Sci-Fi   \n",
              "\n",
              "     rating  year              director  \n",
              "0       8.3  2022       Joseph Kosinski  \n",
              "1       9.2  1972  Francis Ford Coppola  \n",
              "2       8.6  2014     Christopher Nolan  \n",
              "3       9.3  1994        Frank Darabont  \n",
              "4       9.0  1993      Steven Spielberg  \n",
              "..      ...   ...                   ...  \n",
              "245     8.4  2012     Christopher Nolan  \n",
              "246     8.1  2016            Mel Gibson  \n",
              "247     9.0  2003         Peter Jackson  \n",
              "248     8.2  1976       Martin Scorsese  \n",
              "249     8.5  1979          Ridley Scott  \n",
              "\n",
              "[250 rows x 5 columns]"
            ],
            "text/html": [
              "\n",
              "  <div id=\"df-5f3d8687-7f5f-45b2-82bd-87638fe3af1d\">\n",
              "    <div class=\"colab-df-container\">\n",
              "      <div>\n",
              "<style scoped>\n",
              "    .dataframe tbody tr th:only-of-type {\n",
              "        vertical-align: middle;\n",
              "    }\n",
              "\n",
              "    .dataframe tbody tr th {\n",
              "        vertical-align: top;\n",
              "    }\n",
              "\n",
              "    .dataframe thead th {\n",
              "        text-align: right;\n",
              "    }\n",
              "</style>\n",
              "<table border=\"1\" class=\"dataframe\">\n",
              "  <thead>\n",
              "    <tr style=\"text-align: right;\">\n",
              "      <th></th>\n",
              "      <th>titles</th>\n",
              "      <th>genre</th>\n",
              "      <th>rating</th>\n",
              "      <th>year</th>\n",
              "      <th>director</th>\n",
              "    </tr>\n",
              "  </thead>\n",
              "  <tbody>\n",
              "    <tr>\n",
              "      <th>0</th>\n",
              "      <td>Top Gun: Maverick</td>\n",
              "      <td>Action, Drama</td>\n",
              "      <td>8.3</td>\n",
              "      <td>2022</td>\n",
              "      <td>Joseph Kosinski</td>\n",
              "    </tr>\n",
              "    <tr>\n",
              "      <th>1</th>\n",
              "      <td>The Godfather</td>\n",
              "      <td>Crime, Drama</td>\n",
              "      <td>9.2</td>\n",
              "      <td>1972</td>\n",
              "      <td>Francis Ford Coppola</td>\n",
              "    </tr>\n",
              "    <tr>\n",
              "      <th>2</th>\n",
              "      <td>Interstellar</td>\n",
              "      <td>Adventure, Drama, Sci-Fi</td>\n",
              "      <td>8.6</td>\n",
              "      <td>2014</td>\n",
              "      <td>Christopher Nolan</td>\n",
              "    </tr>\n",
              "    <tr>\n",
              "      <th>3</th>\n",
              "      <td>The Shawshank Redemption</td>\n",
              "      <td>Drama</td>\n",
              "      <td>9.3</td>\n",
              "      <td>1994</td>\n",
              "      <td>Frank Darabont</td>\n",
              "    </tr>\n",
              "    <tr>\n",
              "      <th>4</th>\n",
              "      <td>Schindler's List</td>\n",
              "      <td>Biography, Drama, History</td>\n",
              "      <td>9.0</td>\n",
              "      <td>1993</td>\n",
              "      <td>Steven Spielberg</td>\n",
              "    </tr>\n",
              "    <tr>\n",
              "      <th>...</th>\n",
              "      <td>...</td>\n",
              "      <td>...</td>\n",
              "      <td>...</td>\n",
              "      <td>...</td>\n",
              "      <td>...</td>\n",
              "    </tr>\n",
              "    <tr>\n",
              "      <th>245</th>\n",
              "      <td>The Dark Knight Rises</td>\n",
              "      <td>Action, Drama</td>\n",
              "      <td>8.4</td>\n",
              "      <td>2012</td>\n",
              "      <td>Christopher Nolan</td>\n",
              "    </tr>\n",
              "    <tr>\n",
              "      <th>246</th>\n",
              "      <td>Hacksaw Ridge</td>\n",
              "      <td>Biography, Drama, History</td>\n",
              "      <td>8.1</td>\n",
              "      <td>2016</td>\n",
              "      <td>Mel Gibson</td>\n",
              "    </tr>\n",
              "    <tr>\n",
              "      <th>247</th>\n",
              "      <td>The Lord of the Rings: The Return of the King</td>\n",
              "      <td>Action, Adventure, Drama</td>\n",
              "      <td>9.0</td>\n",
              "      <td>2003</td>\n",
              "      <td>Peter Jackson</td>\n",
              "    </tr>\n",
              "    <tr>\n",
              "      <th>248</th>\n",
              "      <td>Taxi Driver</td>\n",
              "      <td>Crime, Drama</td>\n",
              "      <td>8.2</td>\n",
              "      <td>1976</td>\n",
              "      <td>Martin Scorsese</td>\n",
              "    </tr>\n",
              "    <tr>\n",
              "      <th>249</th>\n",
              "      <td>Alien</td>\n",
              "      <td>Horror, Sci-Fi</td>\n",
              "      <td>8.5</td>\n",
              "      <td>1979</td>\n",
              "      <td>Ridley Scott</td>\n",
              "    </tr>\n",
              "  </tbody>\n",
              "</table>\n",
              "<p>250 rows × 5 columns</p>\n",
              "</div>\n",
              "      <button class=\"colab-df-convert\" onclick=\"convertToInteractive('df-5f3d8687-7f5f-45b2-82bd-87638fe3af1d')\"\n",
              "              title=\"Convert this dataframe to an interactive table.\"\n",
              "              style=\"display:none;\">\n",
              "        \n",
              "  <svg xmlns=\"http://www.w3.org/2000/svg\" height=\"24px\"viewBox=\"0 0 24 24\"\n",
              "       width=\"24px\">\n",
              "    <path d=\"M0 0h24v24H0V0z\" fill=\"none\"/>\n",
              "    <path d=\"M18.56 5.44l.94 2.06.94-2.06 2.06-.94-2.06-.94-.94-2.06-.94 2.06-2.06.94zm-11 1L8.5 8.5l.94-2.06 2.06-.94-2.06-.94L8.5 2.5l-.94 2.06-2.06.94zm10 10l.94 2.06.94-2.06 2.06-.94-2.06-.94-.94-2.06-.94 2.06-2.06.94z\"/><path d=\"M17.41 7.96l-1.37-1.37c-.4-.4-.92-.59-1.43-.59-.52 0-1.04.2-1.43.59L10.3 9.45l-7.72 7.72c-.78.78-.78 2.05 0 2.83L4 21.41c.39.39.9.59 1.41.59.51 0 1.02-.2 1.41-.59l7.78-7.78 2.81-2.81c.8-.78.8-2.07 0-2.86zM5.41 20L4 18.59l7.72-7.72 1.47 1.35L5.41 20z\"/>\n",
              "  </svg>\n",
              "      </button>\n",
              "      \n",
              "  <style>\n",
              "    .colab-df-container {\n",
              "      display:flex;\n",
              "      flex-wrap:wrap;\n",
              "      gap: 12px;\n",
              "    }\n",
              "\n",
              "    .colab-df-convert {\n",
              "      background-color: #E8F0FE;\n",
              "      border: none;\n",
              "      border-radius: 50%;\n",
              "      cursor: pointer;\n",
              "      display: none;\n",
              "      fill: #1967D2;\n",
              "      height: 32px;\n",
              "      padding: 0 0 0 0;\n",
              "      width: 32px;\n",
              "    }\n",
              "\n",
              "    .colab-df-convert:hover {\n",
              "      background-color: #E2EBFA;\n",
              "      box-shadow: 0px 1px 2px rgba(60, 64, 67, 0.3), 0px 1px 3px 1px rgba(60, 64, 67, 0.15);\n",
              "      fill: #174EA6;\n",
              "    }\n",
              "\n",
              "    [theme=dark] .colab-df-convert {\n",
              "      background-color: #3B4455;\n",
              "      fill: #D2E3FC;\n",
              "    }\n",
              "\n",
              "    [theme=dark] .colab-df-convert:hover {\n",
              "      background-color: #434B5C;\n",
              "      box-shadow: 0px 1px 3px 1px rgba(0, 0, 0, 0.15);\n",
              "      filter: drop-shadow(0px 1px 2px rgba(0, 0, 0, 0.3));\n",
              "      fill: #FFFFFF;\n",
              "    }\n",
              "  </style>\n",
              "\n",
              "      <script>\n",
              "        const buttonEl =\n",
              "          document.querySelector('#df-5f3d8687-7f5f-45b2-82bd-87638fe3af1d button.colab-df-convert');\n",
              "        buttonEl.style.display =\n",
              "          google.colab.kernel.accessAllowed ? 'block' : 'none';\n",
              "\n",
              "        async function convertToInteractive(key) {\n",
              "          const element = document.querySelector('#df-5f3d8687-7f5f-45b2-82bd-87638fe3af1d');\n",
              "          const dataTable =\n",
              "            await google.colab.kernel.invokeFunction('convertToInteractive',\n",
              "                                                     [key], {});\n",
              "          if (!dataTable) return;\n",
              "\n",
              "          const docLinkHtml = 'Like what you see? Visit the ' +\n",
              "            '<a target=\"_blank\" href=https://colab.research.google.com/notebooks/data_table.ipynb>data table notebook</a>'\n",
              "            + ' to learn more about interactive tables.';\n",
              "          element.innerHTML = '';\n",
              "          dataTable['output_type'] = 'display_data';\n",
              "          await google.colab.output.renderOutput(dataTable, element);\n",
              "          const docLink = document.createElement('div');\n",
              "          docLink.innerHTML = docLinkHtml;\n",
              "          element.appendChild(docLink);\n",
              "        }\n",
              "      </script>\n",
              "    </div>\n",
              "  </div>\n",
              "  "
            ]
          },
          "metadata": {},
          "execution_count": 35
        }
      ]
    },
    {
      "cell_type": "code",
      "source": [],
      "metadata": {
        "id": "GZhmamdOIZVh"
      },
      "execution_count": 24,
      "outputs": []
    }
  ]
}